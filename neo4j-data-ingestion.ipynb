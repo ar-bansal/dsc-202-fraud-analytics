{
 "cells": [
  {
   "cell_type": "code",
   "execution_count": null,
   "metadata": {
    "vscode": {
     "languageId": "plaintext"
    }
   },
   "outputs": [],
   "source": [
    "from neo4j import GraphDatabase\n",
    "from graphdatascience import GraphDataScience"
   ]
  },
  {
   "cell_type": "code",
   "execution_count": null,
   "metadata": {
    "vscode": {
     "languageId": "plaintext"
    }
   },
   "outputs": [],
   "source": [
    "uri = \"neo4j://localhost:7687\"\n",
    "driver = GraphDatabase.driver(uri, auth=(\"neo4j\", \"password\"))\n",
    "session = driver.session()\n",
    "\n",
    "gds = GraphDataScience(uri, auth=(\"neo4j\", \"password\"))"
   ]
  },
  {
   "cell_type": "code",
   "execution_count": null,
   "metadata": {
    "vscode": {
     "languageId": "plaintext"
    }
   },
   "outputs": [],
   "source": [
    "# Ingest data into neo4j \n",
    "gds.run_cypher('''LOAD CSV WITH HEADERS FROM 'file:///fraudTestfinal.csv' AS row\n",
    "    WITH row\n",
    "\n",
    "    MERGE (p:Person {first: row.first, last: row.last})\n",
    "    MERGE (m:Merchant {merchantName: row.merchant, isFraud: row.merch_is_fraud})\n",
    "    MERGE (c:Category {categoryType: row.category})\n",
    "    MERGE (txn:Transaction {txnID: row.trans_num, amount: toFloat(row.amt), timestamp: row.trans_date_trans_time})\n",
    "    MERGE (cc:CreditCard {ccNum: row.cc_num})\n",
    "    MERGE (personLoc:Geocode {latitude: toFloat(row.lat), longitude: toFloat(row.long)})\n",
    "    MERGE (zip: Zipcode {code: row.zip})\n",
    "    MERGE (city: City {name: row.city})\n",
    "    MERGE (state: State {name: row.state})\n",
    "    MERGE (merchantLoc:Geocode {latitude: toFloat(row.merch_lat), longitude: toFloat(row.merch_long)})\n",
    "    MERGE (merch_zip: Zipcode {code: row.merch_zip_code})\n",
    "    MERGE (merch_city: City {name: row.merch_po_name})\n",
    "    MERGE (merch_state: State {name: row.merch_state})\n",
    "\n",
    "\n",
    "    MERGE (p)-[:OWNS]->(cc)\n",
    "    MERGE (cc)-[:MADE_A]->(txn)\n",
    "    MERGE (txn)-[:PAID]->(m)\n",
    "    MERGE (m)-[:IS_A]->(c)\n",
    "    MERGE (m)-[:LOCATED_AT]->(merchantLoc)\n",
    "    MERGE (p)-[:LOCATED_AT]->(personLoc)\n",
    "    MERGE (personLoc)-[:IS_IN]->(zip)\n",
    "    MERGE (zip)-[:IS_IN]->(city)\n",
    "    MERGE (city)-[:IS_IN]->(state)\n",
    "    MERGE (merchantLoc)-[:IS_IN]->(merch_zip)\n",
    "    MERGE (merch_zip)-[:IS_IN]->(merch_city)\n",
    "    MERGE (merch_city)-[:IS_IN]->(merch_state);''')"
   ]
  },
  {
   "cell_type": "code",
   "execution_count": null,
   "metadata": {
    "vscode": {
     "languageId": "plaintext"
    }
   },
   "outputs": [],
   "source": [
    "# Show stats about the ingested data\n",
    "gds.run_cypher(\"\"\"\n",
    "CALL apoc.meta.stats()\n",
    "    YIELD labels\n",
    "    UNWIND keys(labels) AS nodeLabel\n",
    "    RETURN nodeLabel, labels[nodeLabel] AS nodeCount\n",
    "\"\"\")"
   ]
  }
 ],
 "metadata": {
  "language_info": {
   "name": "python"
  }
 },
 "nbformat": 4,
 "nbformat_minor": 2
}
